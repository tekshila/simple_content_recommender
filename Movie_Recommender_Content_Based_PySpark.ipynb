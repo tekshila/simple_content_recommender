{
 "cells": [
  {
   "cell_type": "code",
   "execution_count": 1,
   "metadata": {},
   "outputs": [],
   "source": [
    "import findspark"
   ]
  },
  {
   "cell_type": "code",
   "execution_count": 2,
   "metadata": {},
   "outputs": [],
   "source": [
    "findspark.init()"
   ]
  },
  {
   "cell_type": "code",
   "execution_count": 3,
   "metadata": {},
   "outputs": [
    {
     "data": {
      "text/plain": [
       "'C:\\\\apps\\\\spark-3.0.1-bin-hadoop2.7'"
      ]
     },
     "execution_count": 3,
     "metadata": {},
     "output_type": "execute_result"
    }
   ],
   "source": [
    "findspark.find()"
   ]
  },
  {
   "cell_type": "code",
   "execution_count": 4,
   "metadata": {},
   "outputs": [],
   "source": [
    "import pyspark\n",
    "from pyspark import SparkContext\n",
    "from pyspark import SparkConf\n",
    "from pyspark.sql import SparkSession"
   ]
  },
  {
   "cell_type": "code",
   "execution_count": 5,
   "metadata": {},
   "outputs": [],
   "source": [
    "conf = pyspark.SparkConf().setAppName(\"Movie recommender\").setMaster(\"local[*]\")\n",
    "conf.set(\"spark.driver.memory\",\"2g\")\n",
    "conf.set(\"spark.executor.memory\",\"2g\")\n",
    "sc = pyspark.SparkContext(conf = conf)\n",
    "spark = SparkSession(sc)"
   ]
  },
  {
   "cell_type": "markdown",
   "metadata": {},
   "source": [
    "### lets load movie data"
   ]
  },
  {
   "cell_type": "code",
   "execution_count": 6,
   "metadata": {},
   "outputs": [],
   "source": [
    "movies_raw_data = spark.read.option(\"header\",\"true\").csv(\"file:///C:/mystuff/courses/recommendation_engine/data/ml-latest-small/movies.csv\")"
   ]
  },
  {
   "cell_type": "code",
   "execution_count": 7,
   "metadata": {},
   "outputs": [
    {
     "name": "stdout",
     "output_type": "stream",
     "text": [
      "+-------+--------------------+--------------------+\n",
      "|movieId|               title|              genres|\n",
      "+-------+--------------------+--------------------+\n",
      "|      1|    Toy Story (1995)|Adventure|Animati...|\n",
      "|      2|      Jumanji (1995)|Adventure|Childre...|\n",
      "|      3|Grumpier Old Men ...|      Comedy|Romance|\n",
      "|      4|Waiting to Exhale...|Comedy|Drama|Romance|\n",
      "|      5|Father of the Bri...|              Comedy|\n",
      "+-------+--------------------+--------------------+\n",
      "only showing top 5 rows\n",
      "\n"
     ]
    }
   ],
   "source": [
    "movies_raw_data.show(5)"
   ]
  },
  {
   "cell_type": "markdown",
   "metadata": {},
   "source": [
    "### Convert string genres to mathematical format or numbers"
   ]
  },
  {
   "cell_type": "code",
   "execution_count": 8,
   "metadata": {},
   "outputs": [
    {
     "name": "stdout",
     "output_type": "stream",
     "text": [
      "{'unknown': 0, 'Action': 1, 'Adventure': 2, 'Animation': 3, 'Children': 4, 'Comedy': 5, 'Crime': 6, 'Documentary': 7, 'Drama': 8, 'Fantasy': 9, 'FilmNoir': 10, 'Horror': 11, 'Musical': 12, 'Mystery': 13, 'Romance': 14, 'Sci-Fi': 15, 'Thriller': 16, 'War': 17, 'Western': 18}\n",
      "[0, 0, 0, 0, 0, 0, 0, 0, 0, 0, 0, 0, 0, 0, 0, 0, 0, 0, 0]\n"
     ]
    }
   ],
   "source": [
    "sample = [0] * 19\n",
    "genres_dict = {'unknown': 0, 'Action': 1, 'Adventure': 2, 'Animation': 3, 'Children': 4, 'Comedy': 5, 'Crime': 6, 'Documentary': 7, 'Drama': 8, 'Fantasy': 9, 'FilmNoir': 10, 'Horror': 11, 'Musical': 12, 'Mystery': 13, 'Romance': 14, 'Sci-Fi': 15, 'Thriller': 16, 'War': 17, 'Western': 18}\n",
    "print(genres_dict)\n",
    "print(sample)"
   ]
  },
  {
   "cell_type": "markdown",
   "metadata": {},
   "source": [
    "### function will convert string genres to numbers format"
   ]
  },
  {
   "cell_type": "code",
   "execution_count": 9,
   "metadata": {},
   "outputs": [],
   "source": [
    "def fetchGenVals(m_genres):\n",
    "    genres_vals = [0]*19 \n",
    "    genres_lst = m_genres.split('|')\n",
    "    for v in genres_lst:\n",
    "        if v in genres_dict.keys():\n",
    "            genres_vals[int(genres_dict[v])] = 1\n",
    "        else:\n",
    "            genres_vals[0] = 1        \n",
    "    return genres_vals"
   ]
  },
  {
   "cell_type": "code",
   "execution_count": 10,
   "metadata": {},
   "outputs": [
    {
     "name": "stdout",
     "output_type": "stream",
     "text": [
      "[0, 0, 0, 0, 0, 0, 0, 0, 0, 0, 0, 1, 1, 0, 0, 0, 0, 0, 0]\n"
     ]
    }
   ],
   "source": [
    "print(fetchGenVals('Horror|Musical'))"
   ]
  },
  {
   "cell_type": "code",
   "execution_count": 11,
   "metadata": {},
   "outputs": [],
   "source": [
    "movies_data = movies_raw_data.rdd.map(lambda x : (x[0],x[1],x[2],fetchGenVals(x[2]))).toDF(['movie_id','title','genres','genre_vals'])"
   ]
  },
  {
   "cell_type": "code",
   "execution_count": 12,
   "metadata": {},
   "outputs": [
    {
     "name": "stdout",
     "output_type": "stream",
     "text": [
      "+--------+--------------------+--------------------+--------------------+\n",
      "|movie_id|               title|              genres|          genre_vals|\n",
      "+--------+--------------------+--------------------+--------------------+\n",
      "|       1|    Toy Story (1995)|Adventure|Animati...|[0, 0, 1, 1, 1, 1...|\n",
      "|       2|      Jumanji (1995)|Adventure|Childre...|[0, 0, 1, 0, 1, 0...|\n",
      "|       3|Grumpier Old Men ...|      Comedy|Romance|[0, 0, 0, 0, 0, 1...|\n",
      "|       4|Waiting to Exhale...|Comedy|Drama|Romance|[0, 0, 0, 0, 0, 1...|\n",
      "|       5|Father of the Bri...|              Comedy|[0, 0, 0, 0, 0, 1...|\n",
      "+--------+--------------------+--------------------+--------------------+\n",
      "only showing top 5 rows\n",
      "\n"
     ]
    }
   ],
   "source": [
    "movies_data.show(5)"
   ]
  },
  {
   "cell_type": "code",
   "execution_count": 13,
   "metadata": {},
   "outputs": [],
   "source": [
    "import math\n",
    "from scipy.spatial import distance\n",
    "\n",
    "def cosine_genre(genre1, genre2):\n",
    "    return str(distance.cosine(genre1, genre2))"
   ]
  },
  {
   "cell_type": "markdown",
   "metadata": {},
   "source": [
    "## we will do a join of toy story with other movies in this dataset\n",
    "## lets use sql for simplicity"
   ]
  },
  {
   "cell_type": "code",
   "execution_count": 14,
   "metadata": {},
   "outputs": [],
   "source": [
    "movies_data.createOrReplaceTempView(\"movies\")\n",
    "toy_story_df = spark.sql(\"select * from movies where movie_id = 1\")\n",
    "other_movies_df = spark.sql(\"select * from movies where movie_id != 1\")"
   ]
  },
  {
   "cell_type": "code",
   "execution_count": 15,
   "metadata": {},
   "outputs": [],
   "source": [
    "toy_story_df.createOrReplaceTempView(\"toy_story\")\n",
    "other_movies_df.createOrReplaceTempView(\"all_other_movies\")"
   ]
  },
  {
   "cell_type": "code",
   "execution_count": 16,
   "metadata": {},
   "outputs": [],
   "source": [
    "combined_data_ds = spark.sql(\"select m1.movie_id,m1.title,m1.genre_vals,m2.movie_id,m2.title,m2.genre_vals from toy_story m1, all_other_movies m2 where m1.movie_id != m2.movie_id\")"
   ]
  },
  {
   "cell_type": "code",
   "execution_count": 17,
   "metadata": {},
   "outputs": [
    {
     "name": "stdout",
     "output_type": "stream",
     "text": [
      "+--------+----------------+--------------------+--------+--------------------+--------------------+\n",
      "|movie_id|           title|          genre_vals|movie_id|               title|          genre_vals|\n",
      "+--------+----------------+--------------------+--------+--------------------+--------------------+\n",
      "|       1|Toy Story (1995)|[0, 0, 1, 1, 1, 1...|       2|      Jumanji (1995)|[0, 0, 1, 0, 1, 0...|\n",
      "|       1|Toy Story (1995)|[0, 0, 1, 1, 1, 1...|       3|Grumpier Old Men ...|[0, 0, 0, 0, 0, 1...|\n",
      "|       1|Toy Story (1995)|[0, 0, 1, 1, 1, 1...|       4|Waiting to Exhale...|[0, 0, 0, 0, 0, 1...|\n",
      "|       1|Toy Story (1995)|[0, 0, 1, 1, 1, 1...|       5|Father of the Bri...|[0, 0, 0, 0, 0, 1...|\n",
      "|       1|Toy Story (1995)|[0, 0, 1, 1, 1, 1...|       6|         Heat (1995)|[0, 1, 0, 0, 0, 0...|\n",
      "+--------+----------------+--------------------+--------+--------------------+--------------------+\n",
      "only showing top 5 rows\n",
      "\n"
     ]
    }
   ],
   "source": [
    "combined_data_ds.show(5)"
   ]
  },
  {
   "cell_type": "markdown",
   "metadata": {},
   "source": [
    "### lets do the similarity comparison"
   ]
  },
  {
   "cell_type": "code",
   "execution_count": 18,
   "metadata": {},
   "outputs": [],
   "source": [
    "result = combined_data_ds.rdd.map(lambda x : (x[0],x[1],x[3],x[4],cosine_genre(x[2],x[5]))).toDF(['id1','movie1','id2','movie2','similarity'])"
   ]
  },
  {
   "cell_type": "code",
   "execution_count": 19,
   "metadata": {},
   "outputs": [
    {
     "name": "stdout",
     "output_type": "stream",
     "text": [
      "+---+----------------+---+--------------------+------------------+\n",
      "|id1|          movie1|id2|              movie2|        similarity|\n",
      "+---+----------------+---+--------------------+------------------+\n",
      "|  1|Toy Story (1995)|  2|      Jumanji (1995)|0.2254033307585167|\n",
      "|  1|Toy Story (1995)|  3|Grumpier Old Men ...| 0.683772233983162|\n",
      "|  1|Toy Story (1995)|  4|Waiting to Exhale...|0.7418011102528389|\n",
      "|  1|Toy Story (1995)|  5|Father of the Bri...|0.5527864045000421|\n",
      "|  1|Toy Story (1995)|  6|         Heat (1995)|               1.0|\n",
      "+---+----------------+---+--------------------+------------------+\n",
      "only showing top 5 rows\n",
      "\n"
     ]
    }
   ],
   "source": [
    "result.show(5)"
   ]
  },
  {
   "cell_type": "code",
   "execution_count": 20,
   "metadata": {},
   "outputs": [
    {
     "name": "stdout",
     "output_type": "stream",
     "text": [
      "+---+----------------+------+--------------------+----------+\n",
      "|id1|          movie1|   id2|              movie2|similarity|\n",
      "+---+----------------+------+--------------------+----------+\n",
      "|  1|Toy Story (1995)|  2294|         Antz (1998)|       0.0|\n",
      "|  1|Toy Story (1995)|  3114|  Toy Story 2 (1999)|       0.0|\n",
      "|  1|Toy Story (1995)|  3754|Adventures of Roc...|       0.0|\n",
      "|  1|Toy Story (1995)|  4016|Emperor's New Gro...|       0.0|\n",
      "|  1|Toy Story (1995)|  4886|Monsters, Inc. (2...|       0.0|\n",
      "|  1|Toy Story (1995)| 45074|    Wild, The (2006)|       0.0|\n",
      "|  1|Toy Story (1995)| 53121|Shrek the Third (...|       0.0|\n",
      "|  1|Toy Story (1995)| 65577|Tale of Despereau...|       0.0|\n",
      "|  1|Toy Story (1995)| 91355|Asterix and the V...|       0.0|\n",
      "|  1|Toy Story (1995)|103755|        Turbo (2013)|       0.0|\n",
      "+---+----------------+------+--------------------+----------+\n",
      "only showing top 10 rows\n",
      "\n"
     ]
    }
   ],
   "source": [
    "result.filter(result['similarity'] < 0.01).orderBy('similarity', ascending = True).show(10)"
   ]
  },
  {
   "cell_type": "code",
   "execution_count": null,
   "metadata": {},
   "outputs": [],
   "source": []
  }
 ],
 "metadata": {
  "kernelspec": {
   "display_name": "Python 3",
   "language": "python",
   "name": "python3"
  },
  "language_info": {
   "codemirror_mode": {
    "name": "ipython",
    "version": 3
   },
   "file_extension": ".py",
   "mimetype": "text/x-python",
   "name": "python",
   "nbconvert_exporter": "python",
   "pygments_lexer": "ipython3",
   "version": "3.7.1"
  }
 },
 "nbformat": 4,
 "nbformat_minor": 2
}
